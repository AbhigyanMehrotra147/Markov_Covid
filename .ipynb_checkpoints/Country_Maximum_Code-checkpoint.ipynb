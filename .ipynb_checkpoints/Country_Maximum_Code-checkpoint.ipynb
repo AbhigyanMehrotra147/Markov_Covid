{
 "cells": [
  {
   "cell_type": "code",
   "execution_count": null,
   "id": "68b5a3ca",
   "metadata": {},
   "outputs": [],
   "source": [
    "import pandas as pd\n",
    "import matplotlib.pyplot as plt\n",
    "\n",
    "url = 'https://raw.githubusercontent.com/owid/covid-19-data/master/public/data/owid-covid-data.csv'\n",
    "Data_frame = pd.read_csv(url)\n",
    "\n",
    "\n",
    "def Filter_Dataset(parameter):\n",
    "    filteredDB = Data_frame.loc[Data_frame.continent == \"Europe\", ['continent','location','date', parameter]]\n",
    "    filteredDB = filteredDB.fillna(value = 0)\n",
    "    filteredDB = filteredDB.reset_index()\n",
    "    return filteredDB\n",
    "\n",
    "def Grouping_Dataset(dataset, label):\n",
    "    return dataset.groupby(label)\n",
    "\n",
    "def Restructuring_Dataset(grouped_dataset, parameter):\n",
    "    \n",
    "    superfinalDB = None\n",
    "    \n",
    "    #counter variable is here to prevent the merging of a null database at the starting\n",
    "    count = 1\n",
    "    for country, country_df in grouped_dataset:\n",
    "        if count == 1:\n",
    "            \n",
    "            #getting the maximum parameter value from each country and dividing it by that value\n",
    "            superfinalDB = country_df[['date',parameter]]\n",
    "            country_new_case_maximum = superfinalDB[parameter].max(axis = 0)\n",
    "            superfinalDB[:,parameter] = superfinalDB[:,parameter]/country_new_case_maximum\n",
    "            \n",
    "            #storing the new normalised column in our final database\n",
    "            superfinalDB = superfinalDB.rename(columns = {parameter: country })\n",
    "            count = count + 1\n",
    "        \n",
    "        else:\n",
    "            #getting the maximum parameter value from each country and dividing it by that value\n",
    "            currDB = country_df[['date',parameter]]\n",
    "            country_new_case_maximum = currDB[parameter].max(axis = 0)\n",
    "            currDB[:,parameter] = currDB[:,parameter]/country_new_case_maximum\n",
    "            \n",
    "            #merging the new normalised column of a new country in our final database\n",
    "            currDB = currDB.rename(columns = {parameter: country })\n",
    "            superfinalDB = pd.merge(currDB, superfinalDB, on = 'date')\n",
    "           \n",
    "    return superfinalDB\n",
    "\n",
    "\n",
    "def Plot_data_frame(superfinalDB):    \n",
    "    \n",
    "    fig = plt.figure(figsize=(13,10))\n",
    "    superfinalDB.plot('date')\n",
    "    plt.xlabel('Dates')\n",
    "    plt.ylabel('Normalised ' + parameter)\n",
    "    plt.title(parameter)\n",
    "    plt.legend(bbox_to_anchor = (1.0,1.0))\n",
    "        \n"
   ]
  },
  {
   "cell_type": "code",
   "execution_count": null,
   "id": "0f5d0a23",
   "metadata": {},
   "outputs": [],
   "source": [
    "parameter = 'new_cases'  #change the parameter to 'icu_patients , 'new_deaths' or 'hosp_patients' to see the other 3 graphs\n",
    "label = 'location' # grouping the rows with same country names\n",
    "filtered_dataset = Filter_Dataset(parameter)\n",
    "grouped_dataset = Grouping_Dataset(filtered_dataset, label)\n",
    "final_form_dataset = Restructuring_Dataset(grouped_dataset, parameter)\n",
    "Plot_data_frame(final_form_dataset)"
   ]
  }
 ],
 "metadata": {
  "kernelspec": {
   "display_name": "Python 3 (ipykernel)",
   "language": "python",
   "name": "python3"
  },
  "language_info": {
   "codemirror_mode": {
    "name": "ipython",
    "version": 3
   },
   "file_extension": ".py",
   "mimetype": "text/x-python",
   "name": "python",
   "nbconvert_exporter": "python",
   "pygments_lexer": "ipython3",
   "version": "3.9.7"
  }
 },
 "nbformat": 4,
 "nbformat_minor": 5
}
